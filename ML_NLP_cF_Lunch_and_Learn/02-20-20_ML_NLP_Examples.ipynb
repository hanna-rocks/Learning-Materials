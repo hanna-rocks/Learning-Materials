{
 "cells": [
  {
   "cell_type": "code",
   "execution_count": 1,
   "metadata": {
    "slideshow": {
     "slide_type": "skip"
    }
   },
   "outputs": [],
   "source": [
    "# This tells matplotlib not to try opening a new window for each plot.\n",
    "%matplotlib inline\n",
    "\n",
    "# Import a bunch of libraries.\n",
    "import time\n",
    "import numpy as np\n",
    "import matplotlib.pyplot as plt\n",
    "from matplotlib.ticker import MultipleLocator\n",
    "from sklearn.pipeline import Pipeline \n",
    "from sklearn.datasets import fetch_openml\n",
    "from sklearn.neighbors import KNeighborsClassifier\n",
    "from sklearn.model_selection import train_test_split\n",
    "\n",
    "# Set the randomizer seed so results are the same each time.\n",
    "np.random.seed(0)\n",
    "\n",
    "# Helper Functions:\n",
    "def accuracy_calc(predicted, dev_labels):\n",
    "#Returns accuracy stats for predicted values compared to development values\n",
    "## This calc will be used throughout the project ##\n",
    "    correct, total = 0, 0\n",
    "    for pred, label in zip(predicted, dev_labels):\n",
    "        if pred == label: correct += 1\n",
    "        total += 1\n",
    "    return total, correct, 1.0*correct/total\n",
    "\n",
    "def plot_number(data_point):\n",
    "    pixels = np.reshape(data_point, (28,28))\n",
    "    \n",
    "    plt.rc('image', cmap='gray_r')\n",
    "    fig = plt.figure()\n",
    "    ax = fig.add_subplot(111)\n",
    "    ax.set_xticks([])\n",
    "    ax.set_yticks([])\n",
    "    ax.imshow(pixels)\n",
    "    \n",
    "def clean_email_text(string):\n",
    "    #Function to remove newline, tab and special characters\n",
    "    \n",
    "    string = string.replace('\\n', '')\n",
    "    string = string.replace('\\t', '')\n",
    "    string = re.sub('[^A-Za-z0-9]+', ' ', string)\n",
    "    \n",
    "    return string"
   ]
  },
  {
   "cell_type": "code",
   "execution_count": 2,
   "metadata": {
    "slideshow": {
     "slide_type": "skip"
    }
   },
   "outputs": [],
   "source": [
    "# Load the digit data from https://www.openml.org/d/554 or from default local location `~/scikit_learn_data/...`\n",
    "X, Y = fetch_openml(name='mnist_784', return_X_y=True, cache=False)\n",
    "\n",
    "# Rescale grayscale values to [0,1].\n",
    "X = X / 255.0\n",
    "\n",
    "# Shuffle the input: create a random permutation of the integers between 0 and the number of data points and apply this\n",
    "# permutation to X and Y.\n",
    "# NOTE: Each time you run this cell, you'll re-shuffle the data, resulting in a different ordering.\n",
    "shuffle = np.random.permutation(np.arange(X.shape[0]))\n",
    "X, Y = X[shuffle], Y[shuffle]\n",
    "\n",
    "# Set some variables to hold test, dev, and training data.\n",
    "test_data, test_labels = X[61000:], Y[61000:]\n",
    "dev_data, dev_labels = X[60000:61000], Y[60000:61000]\n",
    "train_data, train_labels = X[:60000], Y[:60000]\n",
    "mini_train_data, mini_train_labels = X[:1000], Y[:1000]\n"
   ]
  },
  {
   "cell_type": "markdown",
   "metadata": {
    "slideshow": {
     "slide_type": "slide"
    }
   },
   "source": [
    "# First things first: What does the data look like?"
   ]
  },
  {
   "cell_type": "markdown",
   "metadata": {
    "slideshow": {
     "slide_type": "notes"
    }
   },
   "source": [
    "- Let's look at the data -- remember we said there was 60,000 training images and 10,000 test images, so 70,000 total.\n",
    "\n",
    "- Each image is 28x28 pixels -- **but how can a computer process this information?**\n"
   ]
  },
  {
   "cell_type": "code",
   "execution_count": 3,
   "metadata": {
    "slideshow": {
     "slide_type": "fragment"
    }
   },
   "outputs": [
    {
     "name": "stdout",
     "output_type": "stream",
     "text": [
      "data shape: (70000, 784)\n",
      "label shape: (70000,)\n"
     ]
    }
   ],
   "source": [
    "# Hint: What do these numbers represent?\n",
    "print('data shape:', X.shape)\n",
    "print('label shape:', Y.shape)"
   ]
  },
  {
   "cell_type": "markdown",
   "metadata": {
    "slideshow": {
     "slide_type": "notes"
    }
   },
   "source": [
    "- **Answer:** For each of the 70,000 images, there is a list of 784 *features* corresponding to each of the pixels in the image (28 * 28 = 784)\n",
    "\n",
    "- Now take a deep look at one record"
   ]
  },
  {
   "cell_type": "markdown",
   "metadata": {
    "slideshow": {
     "slide_type": "slide"
    }
   },
   "source": [
    "# So what does it look like to the computer?"
   ]
  },
  {
   "cell_type": "code",
   "execution_count": 4,
   "metadata": {
    "slideshow": {
     "slide_type": "fragment"
    }
   },
   "outputs": [
    {
     "data": {
      "text/plain": [
       "array([0.        , 0.        , 0.        , 0.        , 0.        ,\n",
       "       0.        , 0.        , 0.        , 0.        , 0.        ,\n",
       "       0.35686275, 0.97254902, 0.99607843, 0.89019608, 0.16862745,\n",
       "       0.        , 0.        , 0.        , 0.        , 0.        ,\n",
       "       0.        , 0.94117647, 0.99607843, 0.78431373, 0.01176471,\n",
       "       0.        , 0.        , 0.        , 0.        , 0.        ,\n",
       "       0.        , 0.        , 0.        , 0.        , 0.        ,\n",
       "       0.        , 0.        , 0.01568627, 0.84705882, 0.99607843,\n",
       "       0.99607843, 0.76078431, 0.61960784, 0.13333333, 0.        ,\n",
       "       0.        , 0.        , 0.        , 0.        , 0.53333333,\n",
       "       0.99607843, 0.99607843, 0.01960784, 0.        , 0.        ,\n",
       "       0.        , 0.        , 0.        , 0.        , 0.        ,\n",
       "       0.        , 0.        , 0.        , 0.        , 0.        ,\n",
       "       0.02352941, 0.99607843, 0.99607843, 0.99607843, 0.99607843,\n",
       "       0.99607843, 0.50588235, 0.        , 0.        , 0.        ,\n",
       "       0.        , 0.        , 0.53333333, 0.99607843, 0.99607843,\n",
       "       0.01960784, 0.        , 0.        , 0.        , 0.        ,\n",
       "       0.        , 0.        , 0.        , 0.        , 0.        ,\n",
       "       0.        , 0.        , 0.        , 0.23529412, 0.99607843,\n",
       "       0.99607843, 0.99607843, 0.99607843, 0.47843137, 0.04313725])"
      ]
     },
     "execution_count": 4,
     "metadata": {},
     "output_type": "execute_result"
    }
   ],
   "source": [
    "# First record in dataset\n",
    "X[0][250:350]"
   ]
  },
  {
   "cell_type": "markdown",
   "metadata": {
    "slideshow": {
     "slide_type": "slide"
    }
   },
   "source": [
    "# But what does it look like to us?"
   ]
  },
  {
   "cell_type": "code",
   "execution_count": 5,
   "metadata": {
    "slideshow": {
     "slide_type": "fragment"
    }
   },
   "outputs": [
    {
     "data": {
      "image/png": "[encoded data removed]",
      "text/plain": [
       "<Figure size 432x288 with 1 Axes>"
      ]
     },
     "metadata": {},
     "output_type": "display_data"
    }
   ],
   "source": [
    "# plot the values as pixels in a 28x28 square\n",
    "plot_number(X[0])"
   ]
  },
  {
   "cell_type": "markdown",
   "metadata": {
    "slideshow": {
     "slide_type": "slide"
    }
   },
   "source": [
    "Pixel Values                             |  Image\n",
    ":---------------------------------------:|:-------------------------:\n",
    "<img src=\"static/pixel_values.png\" alt=\"image of pixel matrix\" width=250>  |  <img src=\"static/plot_number.png\" alt=\"image of handwritten number\" width=250>"
   ]
  },
  {
   "cell_type": "markdown",
   "metadata": {
    "slideshow": {
     "slide_type": "slide"
    }
   },
   "source": [
    "# Using this information, we can fit a number of different models using Python's sklearn package\n",
    "\n",
    "`sklearn` makes it VERY easy to fit models and apply them to test data--using a simple `model.fit` and `model.predict` format.\n",
    "\n",
    "### Let's see a K-Nearest Neighbors example..."
   ]
  },
  {
   "cell_type": "markdown",
   "metadata": {
    "slideshow": {
     "slide_type": "notes"
    }
   },
   "source": [
    "- K-NN is a great starter model.\n",
    "\n",
    "- You can think of it as if I had training data with 2 dimensions (features), and I plotted those on a scatterplot, you could classify an unknown datapoint based on which cluster it falls closest too. "
   ]
  },
  {
   "cell_type": "markdown",
   "metadata": {
    "slideshow": {
     "slide_type": "slide"
    }
   },
   "source": [
    "<img src=\"static/shroom_cluster.png\" alt=\"Mushroom clusters\">"
   ]
  },
  {
   "cell_type": "markdown",
   "metadata": {
    "slideshow": {
     "slide_type": "notes"
    }
   },
   "source": [
    "- This example shows a training set of poisonous and non-poisonous mushrooms in 2 dimensions. **How many clusters do you see?** \n",
    "\n",
    "- Now imagine a scatterplot for our number data with 784 dimensions!\n",
    "\n",
    "- (The \"K\" in K-NN refers to how many datapoints you observe from your training set. Are you looking at the top 3 closest points the center of each cluster? Top 10?)\n",
    "\n",
    "- We won't worry about this too much for our example. Let's build the model."
   ]
  },
  {
   "cell_type": "markdown",
   "metadata": {
    "slideshow": {
     "slide_type": "slide"
    }
   },
   "source": [
    "# Recall our training data:"
   ]
  },
  {
   "cell_type": "code",
   "execution_count": 6,
   "metadata": {
    "slideshow": {
     "slide_type": "subslide"
    }
   },
   "outputs": [
    {
     "name": "stdout",
     "output_type": "stream",
     "text": [
      "This is a 9\n"
     ]
    },
    {
     "data": {
      "image/png": "[encoded data removed]",
      "text/plain": [
       "<Figure size 432x288 with 1 Axes>"
      ]
     },
     "metadata": {},
     "output_type": "display_data"
    }
   ],
   "source": [
    "print(\"This is a \" + str(Y[5]))\n",
    "plot_number(X[5])"
   ]
  },
  {
   "cell_type": "markdown",
   "metadata": {
    "slideshow": {
     "slide_type": "notes"
    }
   },
   "source": [
    "- We have 70,000 rows of pixel data and corresponding labels.\n",
    "\n",
    "- We will break this into some data to use to train our model, and some on which to test the model's accuracy. Let's get started."
   ]
  },
  {
   "cell_type": "markdown",
   "metadata": {
    "slideshow": {
     "slide_type": "slide"
    }
   },
   "source": [
    "## Initiate (create) a model object"
   ]
  },
  {
   "cell_type": "code",
   "execution_count": 7,
   "metadata": {
    "slideshow": {
     "slide_type": "subslide"
    }
   },
   "outputs": [],
   "source": [
    "model = KNeighborsClassifier(n_neighbors=1)"
   ]
  },
  {
   "cell_type": "markdown",
   "metadata": {
    "slideshow": {
     "slide_type": "subslide"
    }
   },
   "source": [
    "## Fit the model with our training data and labels"
   ]
  },
  {
   "cell_type": "code",
   "execution_count": 8,
   "metadata": {
    "slideshow": {
     "slide_type": "subslide"
    }
   },
   "outputs": [
    {
     "data": {
      "text/plain": [
       "KNeighborsClassifier(algorithm='auto', leaf_size=30, metric='minkowski',\n",
       "                     metric_params=None, n_jobs=None, n_neighbors=1, p=2,\n",
       "                     weights='uniform')"
      ]
     },
     "execution_count": 8,
     "metadata": {},
     "output_type": "execute_result"
    }
   ],
   "source": [
    "model.fit(mini_train_data, mini_train_labels)"
   ]
  },
  {
   "cell_type": "markdown",
   "metadata": {
    "slideshow": {
     "slide_type": "subslide"
    }
   },
   "source": [
    "## Use the model to predict labels for some test data"
   ]
  },
  {
   "cell_type": "code",
   "execution_count": 9,
   "metadata": {
    "slideshow": {
     "slide_type": "subslide"
    }
   },
   "outputs": [],
   "source": [
    "predicted = model.predict(dev_data)"
   ]
  },
  {
   "cell_type": "markdown",
   "metadata": {
    "slideshow": {
     "slide_type": "slide"
    }
   },
   "source": [
    "# What do we get?"
   ]
  },
  {
   "cell_type": "code",
   "execution_count": 10,
   "metadata": {
    "slideshow": {
     "slide_type": "subslide"
    }
   },
   "outputs": [
    {
     "data": {
      "text/plain": [
       "array(['8', '4', '1', '9', '6', '6', '3', '2', '1', '0', '8', '3', '1',\n",
       "       '1', '3', '7', '1', '9', '4', '2', '2', '8', '9', '1', '7', '9',\n",
       "       '9', '2', '1', '5', '3', '2', '8', '8', '1', '4', '1', '7', '4',\n",
       "       '7', '4', '5', '6', '7', '7', '5', '7', '3', '1', '7', '6', '8',\n",
       "       '1', '6', '2', '7', '1', '7', '9', '8', '7', '4', '0', '5', '0',\n",
       "       '7', '1', '9', '8', '3', '5', '0', '6', '0', '6', '1', '8', '1',\n",
       "       '9', '1', '0', '8', '6', '3', '1', '8', '3', '2', '1', '5', '6',\n",
       "       '1', '9', '8', '4', '7', '4', '6', '8', '1'], dtype=object)"
      ]
     },
     "execution_count": 10,
     "metadata": {},
     "output_type": "execute_result"
    }
   ],
   "source": [
    "# Look at first 100 of our predicted labels\n",
    "predicted[:100]"
   ]
  },
  {
   "cell_type": "markdown",
   "metadata": {
    "slideshow": {
     "slide_type": "slide"
    }
   },
   "source": [
    "# Ok... are we done?\n",
    "\n",
    "There are a lot of different variables to consider when you are fitting a model. \n",
    "\n",
    "### What are some of the factors that might affect the accuracy of your model?"
   ]
  },
  {
   "cell_type": "markdown",
   "metadata": {
    "slideshow": {
     "slide_type": "notes"
    }
   },
   "source": [
    "1. The size of your training set (i.e. how much labeled data do you have?)\n",
    "2. For K-NN, the 'nearest neighbor' variable is something you can play with to find the optimal value. Different models have different parameters that affect how the model is fit. So when you are building a model, you will want to run tests to determine what the best values for those parameters are.\n",
    "3. There are also different transformations that you can apply to the training data to make it easier for the model to 'generalize' to new images--you want the model to be smart enough to make a decision, but dumb enough that it can handle new data. \n",
    "\n",
    "**Let's briefly look at how the size of your training set can affect the model.**"
   ]
  },
  {
   "cell_type": "markdown",
   "metadata": {
    "slideshow": {
     "slide_type": "slide"
    }
   },
   "source": [
    "# Training Set Size ~ Model Accuracy Example"
   ]
  },
  {
   "cell_type": "code",
   "execution_count": 11,
   "metadata": {
    "slideshow": {
     "slide_type": "skip"
    }
   },
   "outputs": [],
   "source": [
    "def plot_accuracy_rates(train_sizes, accuracies=[]):\n",
    "    for train in train_sizes:\n",
    "        if train > len(train_data): \n",
    "            raise ValueError('Not enough training data')\n",
    "            continue\n",
    "        #Fit the model using a slice of train_data specified in train_size\n",
    "        model = KNeighborsClassifier(n_neighbors=1)\n",
    "        model.fit(train_data[:train], train_labels[:train])\n",
    "        #Predict labels for dev_data and time how long it takes\n",
    "        t_0 = time.time()\n",
    "        predicted = model.predict(dev_data)\n",
    "        t_1 = time.time()\n",
    "        #Calculate accuracy\n",
    "        total, correct, accuracy = accuracy_calc(predicted, dev_labels)\n",
    "        accuracies.append(accuracy)\n",
    "    \n",
    "    # Plot the results\n",
    "    fig = plt.figure()\n",
    "    ax = fig.add_subplot(111)\n",
    "    ax.plot(train_sizes, accuracies)\n",
    "    ax.set_xlabel(\"Training Set Size\")\n",
    "    ax.set_ylabel(\"Accuracy Rate\")\n",
    "    \n"
   ]
  },
  {
   "cell_type": "code",
   "execution_count": 12,
   "metadata": {
    "slideshow": {
     "slide_type": "fragment"
    }
   },
   "outputs": [
    {
     "data": {
      "image/png": "[encoded data removed]",
      "text/plain": [
       "<Figure size 432x288 with 1 Axes>"
      ]
     },
     "metadata": {
      "needs_background": "light"
     },
     "output_type": "display_data"
    }
   ],
   "source": [
    "# Make a plot of the accuracy rates for models built with different sized training sets\n",
    "plot_accuracy_rates([100, 200, 400, 800, 1600, 3200, 6400, 12800, 25000])"
   ]
  },
  {
   "cell_type": "markdown",
   "metadata": {
    "slideshow": {
     "slide_type": "notes"
    }
   },
   "source": [
    "- This is an example of a step you can take to optimize the process of building a model. \n",
    "\n",
    "- It takes computers time to be \"trained\". It also can take time and resources to collect training data. \n",
    "\n",
    "- If we can get a model that is 95% accurate using 25,000 training data, does it make sense to expend resources getting more training data? Maybe not. \n",
    "\n",
    "- Another example of optimization is the number of features used for the model. Here, we used 784. You might be tempted to get carried away with adding a lot of features to try to make the model better, but at a certain point, the incremental increase in accuracy might not be worth the added complexity to the model. \n",
    "\n",
    "- The best models are ones that teach us how to distinguish another object from another, if you have too many features, it might be difficult (or impossible) to communicate to others how the model works. Also, a model with too many features might not be able to generalize to new data. You want to find the balance of being smart enough to predict labels for unknown data, but not so smart that it relies too heavily on **exactly** what it learned from the training data.\n",
    "\n",
    "- The point is: **simpler is better.**"
   ]
  },
  {
   "cell_type": "markdown",
   "metadata": {
    "slideshow": {
     "slide_type": "slide"
    }
   },
   "source": [
    "# Spam Classification Demo\n",
    "\n",
    "BIG thank you to [Mohit's Kaggle post](https://www.kaggle.com/mohitr/simple-spam-filter) for providing material for this demo"
   ]
  },
  {
   "cell_type": "code",
   "execution_count": 13,
   "metadata": {
    "slideshow": {
     "slide_type": "skip"
    }
   },
   "outputs": [
    {
     "name": "stderr",
     "output_type": "stream",
     "text": [
      "[nltk_data] Downloading package stopwords to\n",
      "[nltk_data]     /Users/hanna_rocks/nltk_data...\n",
      "[nltk_data]   Package stopwords is already up-to-date!\n"
     ]
    }
   ],
   "source": [
    "from sklearn.feature_extraction.text import CountVectorizer\n",
    "from sklearn.naive_bayes import MultinomialNB\n",
    "import numpy as np\n",
    "import pandas as pd\n",
    "import matplotlib.pyplot as plt\n",
    "\n",
    "import os\n",
    "import re\n",
    "import nltk\n",
    "#nltk.download('stopwords')\n",
    "from nltk.corpus import stopwords\n",
    "from nltk.stem.porter import PorterStemmer\n"
   ]
  },
  {
   "cell_type": "markdown",
   "metadata": {
    "slideshow": {
     "slide_type": "slide"
    }
   },
   "source": [
    "# What are some features of an email that might indicate it is spam?"
   ]
  },
  {
   "cell_type": "markdown",
   "metadata": {
    "slideshow": {
     "slide_type": "notes"
    }
   },
   "source": [
    "- Is the sender in your address book/history?\n",
    "- Is the recipient’s name used?\n",
    "- What kind of words are in the email? \n",
    "- ..."
   ]
  },
  {
   "cell_type": "markdown",
   "metadata": {
    "slideshow": {
     "slide_type": "slide"
    }
   },
   "source": [
    "# For our example, we are just going to look at the text content of the email"
   ]
  },
  {
   "cell_type": "markdown",
   "metadata": {
    "slideshow": {
     "slide_type": "slide"
    }
   },
   "source": [
    "### Just like the last example, we need to start with training data for our model"
   ]
  },
  {
   "cell_type": "code",
   "execution_count": 15,
   "metadata": {
    "slideshow": {
     "slide_type": "fragment"
    }
   },
   "outputs": [
    {
     "data": {
      "text/html": [
       "<div>\n",
       "<style scoped>\n",
       "    .dataframe tbody tr th:only-of-type {\n",
       "        vertical-align: middle;\n",
       "    }\n",
       "\n",
       "    .dataframe tbody tr th {\n",
       "        vertical-align: top;\n",
       "    }\n",
       "\n",
       "    .dataframe thead th {\n",
       "        text-align: right;\n",
       "    }\n",
       "</style>\n",
       "<table border=\"1\" class=\"dataframe\">\n",
       "  <thead>\n",
       "    <tr style=\"text-align: right;\">\n",
       "      <th></th>\n",
       "      <th>text</th>\n",
       "      <th>spam</th>\n",
       "    </tr>\n",
       "  </thead>\n",
       "  <tbody>\n",
       "    <tr>\n",
       "      <th>0</th>\n",
       "      <td>Subject: naturally irresistible your corporate...</td>\n",
       "      <td>1</td>\n",
       "    </tr>\n",
       "    <tr>\n",
       "      <th>1</th>\n",
       "      <td>Subject: the stock trading gunslinger  fanny i...</td>\n",
       "      <td>1</td>\n",
       "    </tr>\n",
       "    <tr>\n",
       "      <th>2</th>\n",
       "      <td>Subject: unbelievable new homes made easy  im ...</td>\n",
       "      <td>1</td>\n",
       "    </tr>\n",
       "    <tr>\n",
       "      <th>3</th>\n",
       "      <td>Subject: 4 color printing special  request add...</td>\n",
       "      <td>1</td>\n",
       "    </tr>\n",
       "    <tr>\n",
       "      <th>4</th>\n",
       "      <td>Subject: do not have money , get software cds ...</td>\n",
       "      <td>1</td>\n",
       "    </tr>\n",
       "  </tbody>\n",
       "</table>\n",
       "</div>"
      ],
      "text/plain": [
       "                                                text spam\n",
       "0  Subject: naturally irresistible your corporate...    1\n",
       "1  Subject: the stock trading gunslinger  fanny i...    1\n",
       "2  Subject: unbelievable new homes made easy  im ...    1\n",
       "3  Subject: 4 color printing special  request add...    1\n",
       "4  Subject: do not have money , get software cds ...    1"
      ]
     },
     "execution_count": 15,
     "metadata": {},
     "output_type": "execute_result"
    }
   ],
   "source": [
    "# Import a training set\n",
    "dataset = pd.read_csv(\"static/emails.csv\", usecols=[0,1])\n",
    "\n",
    "# Get rid of duplicates or records with missing values\n",
    "dataset.drop_duplicates(inplace=True)\n",
    "dataset.dropna(inplace=True)\n",
    "\n",
    "# Preview the data\n",
    "dataset.head()"
   ]
  },
  {
   "cell_type": "markdown",
   "metadata": {
    "slideshow": {
     "slide_type": "notes"
    }
   },
   "source": [
    "- Simple training set: content of the email, and whether or not it is spam (1 or 0)\n",
    "\n",
    "- In the last model, our features were each of the pixel values for the image of a number. **What are the features going to be for this model?**\n",
    "\n",
    "- **Answer:** each of the words within the email\n",
    "\n",
    "**What might some of the challenges here be?**\n",
    "- words that don't have as much meaning (e.g. 'a', 'the')\n",
    "- Different forms of words (e.g. 'coach' v. 'coaching')\n",
    "\n",
    "**How might we control this? How can we reduce the space of features used to train our model to make it a simpler model?**"
   ]
  },
  {
   "cell_type": "markdown",
   "metadata": {
    "slideshow": {
     "slide_type": "slide"
    }
   },
   "source": [
    "# Bag of Words Model\n",
    "<img src=\"static/BagOfWords.png\" alt=\"BOW cartoon image\">\n",
    "\n",
    "Source: https://ldabook.com/Images/BagOfWords.png"
   ]
  },
  {
   "cell_type": "markdown",
   "metadata": {
    "slideshow": {
     "slide_type": "notes"
    }
   },
   "source": [
    "- BOW takes a sentence and just looks at the words in those sentences and the number of times they occur.\n",
    "\n",
    "- The words and their frequencies become the features used to build a model that can process and classify text. Other models might look at the order of words to help gain additional contextual information, but we're going to keep it simple.\n",
    "\n",
    "- In the handwritten number example, we started with fairly clean data. As we discussed, words present unique challenges that have to be addressed before you can build a good model. "
   ]
  },
  {
   "cell_type": "markdown",
   "metadata": {
    "slideshow": {
     "slide_type": "slide"
    }
   },
   "source": [
    "## Let's Clean Up Our Training Data"
   ]
  },
  {
   "cell_type": "markdown",
   "metadata": {
    "slideshow": {
     "slide_type": "subslide"
    }
   },
   "source": [
    "## The next few steps will:\n",
    "\n",
    "1. Break each sentence into a list of individual words (\"tokens\").\n",
    "\n",
    "2. Remove words with little value.\n",
    "\n",
    "3. Remove special characters that might confuse our model.\n",
    "\n",
    "4. Apply *lemmatization* to bring modified words back to their root form."
   ]
  },
  {
   "cell_type": "markdown",
   "metadata": {
    "slideshow": {
     "slide_type": "notes"
    }
   },
   "source": [
    "- Tokenization looks at unique words only\n",
    "- Lemmatization is something Medallia describes in their TA documentation"
   ]
  },
  {
   "cell_type": "code",
   "execution_count": 16,
   "metadata": {
    "slideshow": {
     "slide_type": "fragment"
    }
   },
   "outputs": [
    {
     "name": "stdout",
     "output_type": "stream",
     "text": [
      "['Subject', ':', 'the', 'stock', 'trading', 'gunslinger', 'fanny', 'is', 'merrill', 'but', 'muzo', 'not', 'colza', 'attainder', 'and', 'penultimate', 'like', 'esmark', 'perspicuous', 'ramble', 'is', 'segovia', 'not', 'group', 'try', 'slung', 'kansas', 'tanzania', 'yes', 'chameleon', 'or', 'continuant', 'clothesman', 'no', 'libretto', 'is', 'chesapeake', 'but', 'tight', 'not', 'waterway', 'herald', 'and', 'hawthorn', 'like', 'chisel', 'morristown', 'superior', 'is', 'deoxyribonucleic', 'not', 'clockwork', 'try', 'hall', 'incredible', 'mcdougall', 'yes', 'hepburn', 'or', 'einsteinian', 'earmark', 'no', 'sapling', 'is', 'boar', 'but', 'duane', 'not', 'plain', 'palfrey', 'and', 'inflexible', 'like', 'huzzah', 'pepperoni', 'bedtime', 'is', 'nameable', 'not', 'attire', 'try', 'edt', 'chronography', 'optima', 'yes', 'pirogue', 'or', 'diffusion', 'albeit', 'no']\n"
     ]
    }
   ],
   "source": [
    "# 1: Tokenization\n",
    "dataset['tokens'] = dataset['text'].map(lambda text:  nltk.tokenize.word_tokenize(text))\n",
    "print(dataset['tokens'][1])"
   ]
  },
  {
   "cell_type": "code",
   "execution_count": 17,
   "metadata": {
    "slideshow": {
     "slide_type": "fragment"
    }
   },
   "outputs": [],
   "source": [
    "# 2: Remove stop words\n",
    "stop_words = set(nltk.corpus.stopwords.words('english'))\n",
    "dataset['filtered_text'] = dataset['tokens'].map(lambda tokens: [w for w in tokens if not (w in stop_words)])\n",
    "\n",
    "# 2: Every record starts with \"Subject :\"--remove this\n",
    "dataset['filtered_text'] = dataset['filtered_text'].map(lambda text: text[2:])"
   ]
  },
  {
   "cell_type": "code",
   "execution_count": 18,
   "metadata": {
    "slideshow": {
     "slide_type": "fragment"
    }
   },
   "outputs": [],
   "source": [
    "# 3: Remove special characters\n",
    "## First we bring all words back together in one string for efficiency reasons\n",
    "dataset['filtered_text'] = dataset['filtered_text'].map(lambda text: ' '.join(text))\n",
    "dataset['filtered_text'] = dataset['filtered_text'].map(lambda text: re.sub('[^A-Za-z0-9]+', ' ', text))"
   ]
  },
  {
   "cell_type": "code",
   "execution_count": 19,
   "metadata": {
    "slideshow": {
     "slide_type": "fragment"
    }
   },
   "outputs": [],
   "source": [
    "# 4: Apply lemmatization (using a handy pre-made package!)\n",
    "wnl = nltk.WordNetLemmatizer()\n",
    "dataset['filtered_text'] = dataset['filtered_text'].map(lambda text: wnl.lemmatize(text))"
   ]
  },
  {
   "cell_type": "markdown",
   "metadata": {
    "slideshow": {
     "slide_type": "slide"
    }
   },
   "source": [
    "# Now let's take a look at the transformed data"
   ]
  },
  {
   "cell_type": "code",
   "execution_count": 20,
   "metadata": {
    "slideshow": {
     "slide_type": "subslide"
    }
   },
   "outputs": [
    {
     "data": {
      "text/html": [
       "<div>\n",
       "<style scoped>\n",
       "    .dataframe tbody tr th:only-of-type {\n",
       "        vertical-align: middle;\n",
       "    }\n",
       "\n",
       "    .dataframe tbody tr th {\n",
       "        vertical-align: top;\n",
       "    }\n",
       "\n",
       "    .dataframe thead th {\n",
       "        text-align: right;\n",
       "    }\n",
       "</style>\n",
       "<table border=\"1\" class=\"dataframe\">\n",
       "  <thead>\n",
       "    <tr style=\"text-align: right;\">\n",
       "      <th></th>\n",
       "      <th>text</th>\n",
       "      <th>spam</th>\n",
       "      <th>tokens</th>\n",
       "      <th>filtered_text</th>\n",
       "    </tr>\n",
       "  </thead>\n",
       "  <tbody>\n",
       "    <tr>\n",
       "      <th>0</th>\n",
       "      <td>Subject: naturally irresistible your corporate...</td>\n",
       "      <td>1</td>\n",
       "      <td>[Subject, :, naturally, irresistible, your, co...</td>\n",
       "      <td>naturally irresistible corporate identity lt r...</td>\n",
       "    </tr>\n",
       "    <tr>\n",
       "      <th>1</th>\n",
       "      <td>Subject: the stock trading gunslinger  fanny i...</td>\n",
       "      <td>1</td>\n",
       "      <td>[Subject, :, the, stock, trading, gunslinger, ...</td>\n",
       "      <td>stock trading gunslinger fanny merrill muzo co...</td>\n",
       "    </tr>\n",
       "    <tr>\n",
       "      <th>2</th>\n",
       "      <td>Subject: unbelievable new homes made easy  im ...</td>\n",
       "      <td>1</td>\n",
       "      <td>[Subject, :, unbelievable, new, homes, made, e...</td>\n",
       "      <td>unbelievable new homes made easy im wanting sh...</td>\n",
       "    </tr>\n",
       "    <tr>\n",
       "      <th>3</th>\n",
       "      <td>Subject: 4 color printing special  request add...</td>\n",
       "      <td>1</td>\n",
       "      <td>[Subject, :, 4, color, printing, special, requ...</td>\n",
       "      <td>4 color printing special request additional in...</td>\n",
       "    </tr>\n",
       "    <tr>\n",
       "      <th>4</th>\n",
       "      <td>Subject: do not have money , get software cds ...</td>\n",
       "      <td>1</td>\n",
       "      <td>[Subject, :, do, not, have, money, ,, get, sof...</td>\n",
       "      <td>money get software cds software compatibility ...</td>\n",
       "    </tr>\n",
       "  </tbody>\n",
       "</table>\n",
       "</div>"
      ],
      "text/plain": [
       "                                                text spam  \\\n",
       "0  Subject: naturally irresistible your corporate...    1   \n",
       "1  Subject: the stock trading gunslinger  fanny i...    1   \n",
       "2  Subject: unbelievable new homes made easy  im ...    1   \n",
       "3  Subject: 4 color printing special  request add...    1   \n",
       "4  Subject: do not have money , get software cds ...    1   \n",
       "\n",
       "                                              tokens  \\\n",
       "0  [Subject, :, naturally, irresistible, your, co...   \n",
       "1  [Subject, :, the, stock, trading, gunslinger, ...   \n",
       "2  [Subject, :, unbelievable, new, homes, made, e...   \n",
       "3  [Subject, :, 4, color, printing, special, requ...   \n",
       "4  [Subject, :, do, not, have, money, ,, get, sof...   \n",
       "\n",
       "                                       filtered_text  \n",
       "0  naturally irresistible corporate identity lt r...  \n",
       "1  stock trading gunslinger fanny merrill muzo co...  \n",
       "2  unbelievable new homes made easy im wanting sh...  \n",
       "3  4 color printing special request additional in...  \n",
       "4  money get software cds software compatibility ...  "
      ]
     },
     "execution_count": 20,
     "metadata": {},
     "output_type": "execute_result"
    }
   ],
   "source": [
    "dataset.head()"
   ]
  },
  {
   "cell_type": "code",
   "execution_count": 21,
   "metadata": {
    "slideshow": {
     "slide_type": "skip"
    }
   },
   "outputs": [
    {
     "data": {
      "text/html": [
       "<div>\n",
       "<style scoped>\n",
       "    .dataframe tbody tr th:only-of-type {\n",
       "        vertical-align: middle;\n",
       "    }\n",
       "\n",
       "    .dataframe tbody tr th {\n",
       "        vertical-align: top;\n",
       "    }\n",
       "\n",
       "    .dataframe thead th {\n",
       "        text-align: right;\n",
       "    }\n",
       "</style>\n",
       "<table border=\"1\" class=\"dataframe\">\n",
       "  <thead>\n",
       "    <tr style=\"text-align: right;\">\n",
       "      <th></th>\n",
       "      <th>text</th>\n",
       "      <th>spam</th>\n",
       "      <th>tokens</th>\n",
       "      <th>filtered_text</th>\n",
       "      <th>token_count</th>\n",
       "    </tr>\n",
       "  </thead>\n",
       "  <tbody>\n",
       "    <tr>\n",
       "      <th>0</th>\n",
       "      <td>Subject: naturally irresistible your corporate...</td>\n",
       "      <td>1</td>\n",
       "      <td>[Subject, :, naturally, irresistible, your, co...</td>\n",
       "      <td>naturally irresistible corporate identity lt r...</td>\n",
       "      <td>325</td>\n",
       "    </tr>\n",
       "    <tr>\n",
       "      <th>1</th>\n",
       "      <td>Subject: the stock trading gunslinger  fanny i...</td>\n",
       "      <td>1</td>\n",
       "      <td>[Subject, :, the, stock, trading, gunslinger, ...</td>\n",
       "      <td>stock trading gunslinger fanny merrill muzo co...</td>\n",
       "      <td>90</td>\n",
       "    </tr>\n",
       "    <tr>\n",
       "      <th>2</th>\n",
       "      <td>Subject: unbelievable new homes made easy  im ...</td>\n",
       "      <td>1</td>\n",
       "      <td>[Subject, :, unbelievable, new, homes, made, e...</td>\n",
       "      <td>unbelievable new homes made easy im wanting sh...</td>\n",
       "      <td>88</td>\n",
       "    </tr>\n",
       "    <tr>\n",
       "      <th>3</th>\n",
       "      <td>Subject: 4 color printing special  request add...</td>\n",
       "      <td>1</td>\n",
       "      <td>[Subject, :, 4, color, printing, special, requ...</td>\n",
       "      <td>4 color printing special request additional in...</td>\n",
       "      <td>99</td>\n",
       "    </tr>\n",
       "    <tr>\n",
       "      <th>4</th>\n",
       "      <td>Subject: do not have money , get software cds ...</td>\n",
       "      <td>1</td>\n",
       "      <td>[Subject, :, do, not, have, money, ,, get, sof...</td>\n",
       "      <td>money get software cds software compatibility ...</td>\n",
       "      <td>53</td>\n",
       "    </tr>\n",
       "  </tbody>\n",
       "</table>\n",
       "</div>"
      ],
      "text/plain": [
       "                                                text spam  \\\n",
       "0  Subject: naturally irresistible your corporate...    1   \n",
       "1  Subject: the stock trading gunslinger  fanny i...    1   \n",
       "2  Subject: unbelievable new homes made easy  im ...    1   \n",
       "3  Subject: 4 color printing special  request add...    1   \n",
       "4  Subject: do not have money , get software cds ...    1   \n",
       "\n",
       "                                              tokens  \\\n",
       "0  [Subject, :, naturally, irresistible, your, co...   \n",
       "1  [Subject, :, the, stock, trading, gunslinger, ...   \n",
       "2  [Subject, :, unbelievable, new, homes, made, e...   \n",
       "3  [Subject, :, 4, color, printing, special, requ...   \n",
       "4  [Subject, :, do, not, have, money, ,, get, sof...   \n",
       "\n",
       "                                       filtered_text  token_count  \n",
       "0  naturally irresistible corporate identity lt r...          325  \n",
       "1  stock trading gunslinger fanny merrill muzo co...           90  \n",
       "2  unbelievable new homes made easy im wanting sh...           88  \n",
       "3  4 color printing special request additional in...           99  \n",
       "4  money get software cds software compatibility ...           53  "
      ]
     },
     "execution_count": 21,
     "metadata": {},
     "output_type": "execute_result"
    }
   ],
   "source": [
    "dataset['token_count'] = dataset.apply(lambda row: len(row['tokens']), axis=1)\n",
    "dataset.head()"
   ]
  },
  {
   "cell_type": "code",
   "execution_count": 22,
   "metadata": {
    "slideshow": {
     "slide_type": "skip"
    }
   },
   "outputs": [
    {
     "data": {
      "text/plain": [
       "1852373"
      ]
     },
     "execution_count": 22,
     "metadata": {},
     "output_type": "execute_result"
    }
   ],
   "source": [
    "# Steps to verify that tokens are unique\n",
    "sum(dataset.token_count)"
   ]
  },
  {
   "cell_type": "code",
   "execution_count": 23,
   "metadata": {
    "slideshow": {
     "slide_type": "skip"
    }
   },
   "outputs": [
    {
     "data": {
      "text/plain": [
       "37259"
      ]
     },
     "execution_count": 23,
     "metadata": {},
     "output_type": "execute_result"
    }
   ],
   "source": [
    "token_set = []\n",
    "for index, value in dataset.tokens.items():\n",
    "    token_set.extend(value)\n",
    "    \n",
    "len(set(token_set))"
   ]
  },
  {
   "cell_type": "markdown",
   "metadata": {
    "slideshow": {
     "slide_type": "slide"
    }
   },
   "source": [
    "## Now we can build our model!"
   ]
  },
  {
   "cell_type": "code",
   "execution_count": 24,
   "metadata": {
    "slideshow": {
     "slide_type": "subslide"
    }
   },
   "outputs": [],
   "source": [
    "# CountVectorizer will count the frequency of the different words for each record\n",
    "cv = CountVectorizer()\n",
    "counts = cv.fit_transform(dataset['filtered_text'].values)\n",
    "labels = dataset['spam'].values # Pull out just the 'spam' column for our labels"
   ]
  },
  {
   "cell_type": "markdown",
   "metadata": {
    "slideshow": {
     "slide_type": "notes"
    }
   },
   "source": [
    "- This step is a little tricky. The count vectorizer is taking all of the different words and counting the number of times they occur in each record.\n",
    "\n",
    "- What we end up with is a *very* wide table! Each column corresponds to a word and will contain the number of occurence of that word for each record."
   ]
  },
  {
   "cell_type": "markdown",
   "metadata": {
    "slideshow": {
     "slide_type": "slide"
    }
   },
   "source": [
    "# Let's look at the shapes to get an idea of what this looks like"
   ]
  },
  {
   "cell_type": "code",
   "execution_count": 25,
   "metadata": {
    "slideshow": {
     "slide_type": "subslide"
    }
   },
   "outputs": [
    {
     "name": "stdout",
     "output_type": "stream",
     "text": [
      "Training Data:  (5695, 37034)\n",
      "Training Labels:  (5695,)\n"
     ]
    }
   ],
   "source": [
    "print(\"Training Data: \", counts.shape) \n",
    "print(\"Training Labels: \", labels.shape)"
   ]
  },
  {
   "cell_type": "code",
   "execution_count": 26,
   "metadata": {
    "slideshow": {
     "slide_type": "skip"
    }
   },
   "outputs": [],
   "source": [
    "# Split the dataset into training and test\n",
    "from sklearn.model_selection import train_test_split\n",
    "\n",
    "X_train, X_test, y_train, y_test = train_test_split(counts, labels, test_size = 0.20)"
   ]
  },
  {
   "cell_type": "markdown",
   "metadata": {
    "slideshow": {
     "slide_type": "slide"
    }
   },
   "source": [
    "## Again, we are going to use the \"fit, predict\" workflow to create the model"
   ]
  },
  {
   "cell_type": "markdown",
   "metadata": {
    "slideshow": {
     "slide_type": "subslide"
    }
   },
   "source": [
    "## Fit a model\n",
    "This time we are using a Naive Bayes model instead of K-Nearest Neighbors.\n",
    "\n",
    "Naive Bayes uses statistics to evaluate the frequencies of each word and develop a likelihood of the email being spam."
   ]
  },
  {
   "cell_type": "code",
   "execution_count": 27,
   "metadata": {
    "slideshow": {
     "slide_type": "subslide"
    }
   },
   "outputs": [
    {
     "data": {
      "text/plain": [
       "MultinomialNB(alpha=1.0, class_prior=None, fit_prior=True)"
      ]
     },
     "execution_count": 27,
     "metadata": {},
     "output_type": "execute_result"
    }
   ],
   "source": [
    "model = MultinomialNB()\n",
    "model.fit(X_train, y_train)"
   ]
  },
  {
   "cell_type": "markdown",
   "metadata": {
    "slideshow": {
     "slide_type": "subslide"
    }
   },
   "source": [
    "## Now let's use this model to predict whether the following emails are spam\n",
    "\n",
    "Spam Email                           |  Ham Email\n",
    ":---------------------------------------:|:-------------------------:\n",
    "<img src=\"static/spam_email.png\" width=350>  |  <img src=\"static/ham_email.png\" width=350>"
   ]
  },
  {
   "cell_type": "code",
   "execution_count": 28,
   "metadata": {
    "slideshow": {
     "slide_type": "slide"
    }
   },
   "outputs": [],
   "source": [
    "ham_email = '''Hi cF team,\n",
    "\n",
    "Please have a look at this note below from M's tech support team.\n",
    "\n",
    "Apparently my name is listed as the contact in M's SFDC for V's role/access change requests.   I can certainly help out with the group requests, but I do not know how to help in the case of the mobile piece.\n",
    "\n",
    "Are you able to assist them? \n",
    "\n",
    "\n",
    "\n",
    "*****'''\n",
    "\n",
    "spam_email = '''TERMINIX\n",
    "\n",
    "90+ YEARS\n",
    "\n",
    "EXPERIENCE\n",
    "GUARANTEED PEST CONTROL\n",
    "\n",
    "We'll do whatever it takes, by coming back between treatments at no cost, until pests are gone.1\n",
    "\n",
    "100%\n",
    "SATISFACTION\n",
    "\n",
    "GUARANTEE\n",
    "\n",
    "SAVE $502\n",
    "\n",
    "ON A TERMINIX PEST CONTROL PLAN3\n",
    "\n",
    "100% Satisfaction guarantee\n",
    "\n",
    "America's leading provider in termite and pest control services\n",
    "\n",
    "Annual coverage from top pest threats3\n",
    "\n",
    "\n",
    "GET A FREE ESTIMATE »\n",
    "\n",
    "1 If within 30 days after an inspection or treatment you aren't totally satisfied, we will refund the applicable treatment or coverage charges, reimburse any prepaid services and cancel your plan.\n",
    "\n",
    "2 Offer valid only at participating locations. Single-family dwelling unid only. Requires purchase of a new annual residential pest control plan. Offer may not be combined with other offers, bundled service offerings or other discounts.. Additional limitations apply. Not valid for existing pest control customers.\n",
    "\n",
    "3 Standard Covered Pests: cockroaches. mice. rats. silverfish, \"house\" ants (excluding carpenter ants, fire ants, pharaoh ants and tawny crazy ants), clothes moths, spiders (excluding black widow and brown recluse spiders), scorpions, centipedes, millipedes, earwigs house crickets and paper wasps. Other pests not specified as Standard Covered Pests may be covered for an additional charge or under other plans.\n",
    "\n",
    "\n",
    "©2020 The Terminix International Company Limited Partnership. All rights reserved.\n",
    "\n",
    "This is an Advertisement.\n",
    "The Terminix International Company Limited Partnership, 150 Peabody Place, Memphis, TN 38103\n",
    "We respect your privacy. View our policy.\n",
    "Unsubscribe\n",
    "'''"
   ]
  },
  {
   "cell_type": "code",
   "execution_count": 29,
   "metadata": {
    "slideshow": {
     "slide_type": "skip"
    }
   },
   "outputs": [],
   "source": [
    "spam_email = clean_email_text(spam_email)\n",
    "ham_email = clean_email_text(ham_email)"
   ]
  },
  {
   "cell_type": "markdown",
   "metadata": {
    "slideshow": {
     "slide_type": "slide"
    }
   },
   "source": [
    "## Get frequency counts of the words from our original model\n",
    "This is what we will feed into the NLP model."
   ]
  },
  {
   "cell_type": "code",
   "execution_count": 30,
   "metadata": {
    "slideshow": {
     "slide_type": "subslide"
    }
   },
   "outputs": [
    {
     "data": {
      "text/plain": [
       "(2, 37034)"
      ]
     },
     "execution_count": 30,
     "metadata": {},
     "output_type": "execute_result"
    }
   ],
   "source": [
    "examples = [spam_email, ham_email]\n",
    "counts = cv.transform(examples)\n",
    "counts.shape"
   ]
  },
  {
   "cell_type": "markdown",
   "metadata": {
    "slideshow": {
     "slide_type": "notes"
    }
   },
   "source": [
    "Drumroll please...."
   ]
  },
  {
   "cell_type": "code",
   "execution_count": 31,
   "metadata": {
    "slideshow": {
     "slide_type": "slide"
    }
   },
   "outputs": [
    {
     "data": {
      "text/plain": [
       "array(['1', '0'], dtype='<U92')"
      ]
     },
     "execution_count": 31,
     "metadata": {},
     "output_type": "execute_result"
    }
   ],
   "source": [
    "model.predict(counts)"
   ]
  },
  {
   "cell_type": "code",
   "execution_count": null,
   "metadata": {},
   "outputs": [],
   "source": []
  }
 ],
 "metadata": {
  "celltoolbar": "Slideshow",
  "kernelspec": {
   "display_name": "Python 3",
   "language": "python",
   "name": "python3"
  },
  "language_info": {
   "codemirror_mode": {
    "name": "ipython",
    "version": 3
   },
   "file_extension": ".py",
   "mimetype": "text/x-python",
   "name": "python",
   "nbconvert_exporter": "python",
   "pygments_lexer": "ipython3",
   "version": "3.7.3"
  }
 },
 "nbformat": 4,
 "nbformat_minor": 2
}
